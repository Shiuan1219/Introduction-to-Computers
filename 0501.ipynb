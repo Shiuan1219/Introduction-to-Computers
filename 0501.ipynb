{
  "nbformat": 4,
  "nbformat_minor": 0,
  "metadata": {
    "colab": {
      "provenance": [],
      "authorship_tag": "ABX9TyP3bKGUbEug/yuTyUSI4tF/",
      "include_colab_link": true
    },
    "kernelspec": {
      "name": "python3",
      "display_name": "Python 3"
    },
    "language_info": {
      "name": "python"
    }
  },
  "cells": [
    {
      "cell_type": "markdown",
      "metadata": {
        "id": "view-in-github",
        "colab_type": "text"
      },
      "source": [
        "<a href=\"https://colab.research.google.com/github/Shiuan1219/Introduction-to-Computers/blob/main/0501.ipynb\" target=\"_parent\"><img src=\"https://colab.research.google.com/assets/colab-badge.svg\" alt=\"Open In Colab\"/></a>"
      ]
    },
    {
      "cell_type": "code",
      "execution_count": 1,
      "metadata": {
        "colab": {
          "base_uri": "https://localhost:8080/"
        },
        "id": "kqTg_8RkLzJk",
        "outputId": "e7610795-ef69-45bd-999f-cf6a764b4003"
      },
      "outputs": [
        {
          "name": "stdout",
          "output_type": "stream",
          "text": [
            "請輸入本金存款金額：10000\n"
          ]
        }
      ],
      "source": [
        "本金=int(input('請輸入本金存款金額：'))"
      ]
    },
    {
      "cell_type": "code",
      "source": [
        "n=6"
      ],
      "metadata": {
        "id": "clcp9yBvOKVX"
      },
      "execution_count": 4,
      "outputs": []
    },
    {
      "cell_type": "code",
      "source": [
        "n年後存款=本金*(1.02)**n"
      ],
      "metadata": {
        "id": "sdaTRZRoNeHQ"
      },
      "execution_count": 7,
      "outputs": []
    },
    {
      "cell_type": "code",
      "source": [
        "print('6年後存款為:',n年後存款)"
      ],
      "metadata": {
        "colab": {
          "base_uri": "https://localhost:8080/"
        },
        "id": "OT0-D4ywOIYI",
        "outputId": "e323ee1a-e1a6-4584-f505-48521ac0007f"
      },
      "execution_count": 9,
      "outputs": [
        {
          "output_type": "stream",
          "name": "stdout",
          "text": [
            "6年後存款為: 11261.62419264\n"
          ]
        }
      ]
    },
    {
      "cell_type": "markdown",
      "source": [
        "Print文字"
      ],
      "metadata": {
        "id": "yDz7BKraPgmG"
      }
    },
    {
      "cell_type": "code",
      "source": [
        "print('Hello World')"
      ],
      "metadata": {
        "colab": {
          "base_uri": "https://localhost:8080/"
        },
        "id": "saOFKOD7OJAe",
        "outputId": "c086aa24-7eef-4f5b-e054-61f93672360e"
      },
      "execution_count": 10,
      "outputs": [
        {
          "output_type": "stream",
          "name": "stdout",
          "text": [
            "Hello World\n"
          ]
        }
      ]
    },
    {
      "cell_type": "markdown",
      "source": [
        "整數和"
      ],
      "metadata": {
        "id": "IEb_svS1P_56"
      }
    },
    {
      "cell_type": "code",
      "source": [
        "n=5"
      ],
      "metadata": {
        "id": "zpbTqBE1O54I"
      },
      "execution_count": 11,
      "outputs": []
    },
    {
      "cell_type": "code",
      "source": [
        "total=0"
      ],
      "metadata": {
        "id": "RTDKUBJyO6EC"
      },
      "execution_count": 12,
      "outputs": []
    },
    {
      "cell_type": "code",
      "source": [
        "for i in range(1,n+1):\n",
        "  total += i"
      ],
      "metadata": {
        "id": "MEL6vU2AO6He"
      },
      "execution_count": 16,
      "outputs": []
    },
    {
      "cell_type": "code",
      "source": [
        "print(\"1到{}的整數和為{}\".format(n,total))"
      ],
      "metadata": {
        "colab": {
          "base_uri": "https://localhost:8080/"
        },
        "id": "yxQYpmowO6Lw",
        "outputId": "dfd44dc5-972a-4a81-99db-07de19e8b762"
      },
      "execution_count": 17,
      "outputs": [
        {
          "output_type": "stream",
          "name": "stdout",
          "text": [
            "1到5的整數和為15\n"
          ]
        }
      ]
    },
    {
      "cell_type": "markdown",
      "source": [
        "溫度轉換"
      ],
      "metadata": {
        "id": "Liem66PhSnlw"
      }
    },
    {
      "cell_type": "code",
      "source": [
        "F=float(input(\"請輸入華氏溫度：\"))"
      ],
      "metadata": {
        "colab": {
          "base_uri": "https://localhost:8080/"
        },
        "id": "eRXbmuK4O6PB",
        "outputId": "16ef2fe6-3649-4adc-e90a-bc2a04971582"
      },
      "execution_count": 19,
      "outputs": [
        {
          "name": "stdout",
          "output_type": "stream",
          "text": [
            "請輸入華氏溫度：100\n"
          ]
        }
      ]
    },
    {
      "cell_type": "code",
      "source": [
        "攝氏溫度=(F-32)*5/9"
      ],
      "metadata": {
        "id": "Ritc836QO6R_"
      },
      "execution_count": 21,
      "outputs": []
    },
    {
      "cell_type": "code",
      "source": [
        "print(\"攝氏溫度為：{:.1f}\".format(攝氏溫度))"
      ],
      "metadata": {
        "colab": {
          "base_uri": "https://localhost:8080/"
        },
        "id": "mNbvfUopT1T-",
        "outputId": "17f92d84-57e6-4f57-934a-b9acd480ad4a"
      },
      "execution_count": 24,
      "outputs": [
        {
          "output_type": "stream",
          "name": "stdout",
          "text": [
            "攝氏溫度為：37.8\n"
          ]
        }
      ]
    }
  ]
}