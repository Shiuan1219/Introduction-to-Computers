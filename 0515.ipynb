{
  "nbformat": 4,
  "nbformat_minor": 0,
  "metadata": {
    "colab": {
      "provenance": [],
      "authorship_tag": "ABX9TyMxQtC3Q7iOhZzxgHdNPken",
      "include_colab_link": true
    },
    "kernelspec": {
      "name": "python3",
      "display_name": "Python 3"
    },
    "language_info": {
      "name": "python"
    }
  },
  "cells": [
    {
      "cell_type": "markdown",
      "metadata": {
        "id": "view-in-github",
        "colab_type": "text"
      },
      "source": [
        "<a href=\"https://colab.research.google.com/github/Shiuan1219/Introduction-to-Computers/blob/main/0515.ipynb\" target=\"_parent\"><img src=\"https://colab.research.google.com/assets/colab-badge.svg\" alt=\"Open In Colab\"/></a>"
      ]
    },
    {
      "cell_type": "code",
      "source": [
        "rain=str(input('今天會下雨嗎？'))\n",
        "if rain==\"Y\" :\n",
        "    print('不用帶傘')\n",
        "elif rain == \"y\" :\n",
        "    print('要帶傘')\n",
        "else :\n",
        "    print('')"
      ],
      "metadata": {
        "colab": {
          "base_uri": "https://localhost:8080/"
        },
        "id": "287a_TgXVk78",
        "outputId": "c5f7b7d6-17ac-4b6f-88fa-f1912aebac88"
      },
      "execution_count": 4,
      "outputs": [
        {
          "output_type": "stream",
          "name": "stdout",
          "text": [
            "今天會下雨嗎？y\n",
            "要帶傘\n"
          ]
        }
      ]
    },
    {
      "cell_type": "code",
      "source": [
        "體溫= int(input('輸入體溫:'))\n",
        "if 體溫 >= 37.5:\n",
        "    print('體溫過高！')\n",
        "elif 體溫 >= 37.4 and 37:\n",
        "    print('體溫略高！')\n",
        "elif 體溫 >=34 and 36.9:\n",
        "    print('體溫正常')\n",
        "else:\n",
        "    print('體溫異常，請重新量測！')"
      ],
      "metadata": {
        "colab": {
          "base_uri": "https://localhost:8080/"
        },
        "id": "gOpNknV7TqSr",
        "outputId": "c7a39039-2dd1-4fb0-d767-19e1a9911f65"
      },
      "execution_count": 18,
      "outputs": [
        {
          "output_type": "stream",
          "name": "stdout",
          "text": [
            "輸入體溫:38\n",
            "體溫過高！\n"
          ]
        }
      ]
    },
    {
      "cell_type": "code",
      "source": [
        "成績= int(input('請輸入成績：'))\n",
        "if 成績 >= 90:\n",
        "    print('A')\n",
        "elif 成績 >=80 and 89:\n",
        "    print('B')\n",
        "elif 成績>=70 and 79:\n",
        "    print('C')\n",
        "elif 成績>=60 and 69:\n",
        "    print('D')\n",
        "else:\n",
        "    print('E')"
      ],
      "metadata": {
        "colab": {
          "base_uri": "https://localhost:8080/"
        },
        "id": "Np3hJ0LqXgFv",
        "outputId": "619cdc2d-ae02-4d89-ba4f-e290caebcb64"
      },
      "execution_count": 19,
      "outputs": [
        {
          "output_type": "stream",
          "name": "stdout",
          "text": [
            "請輸入成績：100\n",
            "A\n"
          ]
        }
      ]
    },
    {
      "cell_type": "code",
      "source": [
        "s=int(input('請輸入月份：'))\n",
        "if s>=3 or s>= 4 or s>= 5:\n",
        "    print(s,'月是春天！')\n",
        "elif s>= 6 or s>= 7 or s>= 8:\n",
        "    print(s,'月是夏天！')\n",
        "elif s>= 9 or s>= 10 or s>= 11:\n",
        "    print(s,'月是秋天！')\n",
        "elif s>= 12 or s>= 1 or s>= 2:\n",
        "    print(s,'月是冬天！')\n",
        "else:\n",
        "    print('月份不在範圍內')"
      ],
      "metadata": {
        "colab": {
          "base_uri": "https://localhost:8080/"
        },
        "id": "sjsGBR-fYmk-",
        "outputId": "bb3cdec4-b468-4afa-f93f-8ac5747b62be"
      },
      "execution_count": 31,
      "outputs": [
        {
          "output_type": "stream",
          "name": "stdout",
          "text": [
            "請輸入月份：3\n",
            "3 月是春天！\n"
          ]
        }
      ]
    },
    {
      "cell_type": "code",
      "source": [
        "i=int(input('請輸入收入淨額：'))\n",
        "if i>= 2000000:\n",
        "    print('付稅金額：',i*0.3,'元')\n",
        "elif i>=1000000:\n",
        "    print('付稅金額：',i*0.21,'元')\n",
        "elif i>=600000:\n",
        "    print('付稅金額：',i*0.13,'元')\n",
        "elif i>= 300000:\n",
        "    print('付稅金額：',i*0.06,'元')\n",
        "else:\n",
        "    print('付稅金額：',i*0,'元')"
      ],
      "metadata": {
        "colab": {
          "base_uri": "https://localhost:8080/"
        },
        "id": "cJd4UhFyaw-u",
        "outputId": "4e33c557-b8e6-4e85-9b5b-3b4520ba401a"
      },
      "execution_count": 23,
      "outputs": [
        {
          "output_type": "stream",
          "name": "stdout",
          "text": [
            "請輸入收入淨額：2000000\n",
            "付稅金額： 600000.0 元\n"
          ]
        }
      ]
    }
  ]
}