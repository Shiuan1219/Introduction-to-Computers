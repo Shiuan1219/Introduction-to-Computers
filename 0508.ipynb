{
  "nbformat": 4,
  "nbformat_minor": 0,
  "metadata": {
    "colab": {
      "provenance": [],
      "authorship_tag": "ABX9TyMwW0yjjhMB8jT0QjqV9nMB",
      "include_colab_link": true
    },
    "kernelspec": {
      "name": "python3",
      "display_name": "Python 3"
    },
    "language_info": {
      "name": "python"
    }
  },
  "cells": [
    {
      "cell_type": "markdown",
      "metadata": {
        "id": "view-in-github",
        "colab_type": "text"
      },
      "source": [
        "<a href=\"https://colab.research.google.com/github/Shiuan1219/Introduction-to-Computers/blob/main/0508.ipynb\" target=\"_parent\"><img src=\"https://colab.research.google.com/assets/colab-badge.svg\" alt=\"Open In Colab\"/></a>"
      ]
    },
    {
      "cell_type": "code",
      "execution_count": 1,
      "metadata": {
        "colab": {
          "base_uri": "https://localhost:8080/"
        },
        "id": "vk69uZSLN43h",
        "outputId": "24ace46a-d270-4126-a5c1-0e04f96399e5"
      },
      "outputs": [
        {
          "output_type": "stream",
          "name": "stdout",
          "text": [
            "hi\n"
          ]
        }
      ],
      "source": [
        "print('hi')"
      ]
    },
    {
      "cell_type": "code",
      "source": [
        "print('hi.   ')"
      ],
      "metadata": {
        "colab": {
          "base_uri": "https://localhost:8080/"
        },
        "id": "rjAifn-5PJv4",
        "outputId": "49218901-5bfe-422a-c3d1-003f90fe38d6"
      },
      "execution_count": 2,
      "outputs": [
        {
          "output_type": "stream",
          "name": "stdout",
          "text": [
            "hi.   \n"
          ]
        }
      ]
    },
    {
      "cell_type": "code",
      "source": [
        "print('hi ')"
      ],
      "metadata": {
        "colab": {
          "base_uri": "https://localhost:8080/"
        },
        "id": "166GmSX9PJ6X",
        "outputId": "7ca5e4f6-bff8-4bf3-ba16-4f40d82a8928"
      },
      "execution_count": 3,
      "outputs": [
        {
          "output_type": "stream",
          "name": "stdout",
          "text": [
            "hi \n"
          ]
        }
      ]
    },
    {
      "cell_type": "code",
      "source": [
        "成績=int(input('請輸入你的成績'))"
      ],
      "metadata": {
        "colab": {
          "base_uri": "https://localhost:8080/"
        },
        "id": "_7l-FQdqP4sk",
        "outputId": "3954121c-dbb7-44e0-8a53-4c206074a0b4"
      },
      "execution_count": 4,
      "outputs": [
        {
          "name": "stdout",
          "output_type": "stream",
          "text": [
            "請輸入你的成績80\n"
          ]
        }
      ]
    },
    {
      "cell_type": "code",
      "source": [
        "if 成績 >=60 :\n",
        "    print('及格')\n",
        "else:\n",
        "  print('不及格')"
      ],
      "metadata": {
        "colab": {
          "base_uri": "https://localhost:8080/"
        },
        "id": "e57uo-jgQVJt",
        "outputId": "3e8e939e-fbbf-4b04-ac93-8fcab236b4cf"
      },
      "execution_count": 12,
      "outputs": [
        {
          "output_type": "stream",
          "name": "stdout",
          "text": [
            "及格\n"
          ]
        }
      ]
    },
    {
      "cell_type": "code",
      "source": [
        "密碼=int(input('請輸入密碼：'))\n",
        "if 密碼 == 1234:\n",
        "  print('歡迎光臨！')\n",
        "else:\n",
        "  print('密碼不正確')"
      ],
      "metadata": {
        "colab": {
          "base_uri": "https://localhost:8080/"
        },
        "id": "TWIM2L-VSenN",
        "outputId": "270b0a39-ffda-465a-f966-5dfc43391bb3"
      },
      "execution_count": 17,
      "outputs": [
        {
          "output_type": "stream",
          "name": "stdout",
          "text": [
            "請輸入密碼：44\n",
            "密碼不正確\n"
          ]
        }
      ]
    },
    {
      "cell_type": "code",
      "source": [
        "rain=str(input('今天會下雨嗎？'))\n",
        "if rain==\"Y\" :\n",
        "    print('不用帶傘')\n"
      ],
      "metadata": {
        "colab": {
          "base_uri": "https://localhost:8080/"
        },
        "id": "287a_TgXVk78",
        "outputId": "7990512f-6db9-4c8f-9603-c0d23d4c1e42"
      },
      "execution_count": 19,
      "outputs": [
        {
          "output_type": "stream",
          "name": "stdout",
          "text": [
            "今天會下雨嗎？Y\n",
            "不用帶傘\n"
          ]
        }
      ]
    },
    {
      "cell_type": "code",
      "source": [
        "數=int(input('請輸入正整數'))\n",
        "if 數 %2==0:\n",
        "  print(數,'為偶數')\n",
        "else:\n",
        "  print(數,'為奇數')"
      ],
      "metadata": {
        "colab": {
          "base_uri": "https://localhost:8080/"
        },
        "id": "xDkKltIKWyzT",
        "outputId": "bdf24c23-7d2f-4720-b7f4-6715a3fea520"
      },
      "execution_count": 21,
      "outputs": [
        {
          "output_type": "stream",
          "name": "stdout",
          "text": [
            "請輸入正整數50\n",
            "50 為偶數\n"
          ]
        }
      ]
    }
  ]
}